{
 "cells": [
  {
   "cell_type": "code",
   "execution_count": 1,
   "metadata": {},
   "outputs": [],
   "source": [
    "import numpy as np\n",
    "import pandas as pd"
   ]
  },
  {
   "cell_type": "code",
   "execution_count": 2,
   "metadata": {},
   "outputs": [],
   "source": [
    "from bs4 import BeautifulSoup as bs\n",
    "from requests import get\n",
    "import time\n",
    "from operator import itemgetter\n",
    "import networkx as nx\n",
    "\n",
    "import matplotlib.pyplot as plt"
   ]
  },
  {
   "cell_type": "markdown",
   "metadata": {},
   "source": [
    "### Task 1 "
   ]
  },
  {
   "cell_type": "code",
   "execution_count": 24,
   "metadata": {},
   "outputs": [],
   "source": [
    "x=\"111111111111111111111111100000000\""
   ]
  },
  {
   "cell_type": "code",
   "execution_count": 25,
   "metadata": {},
   "outputs": [],
   "source": [
    "def task1(a):\n",
    "    # if the input is a number, convert it to a string\n",
    "    a=str(a)\n",
    "    # this function returns an index wherein the text(number)  first occurred \"0\"\n",
    "    ind=a.index(\"0\")\n",
    "    print(\"The index of the last 1 : \", ind-1)\n",
    "    print(\"The index of the first 0 : \", ind)\n",
    "    return ind"
   ]
  },
  {
   "cell_type": "code",
   "execution_count": 26,
   "metadata": {},
   "outputs": [
    {
     "name": "stdout",
     "output_type": "stream",
     "text": [
      "The index of the last 1 :  24\n",
      "The index of the first 0 :  25\n"
     ]
    }
   ],
   "source": [
    "#### task1 function returns the index of the first 0\n",
    "index_0=task1(x)"
   ]
  },
  {
   "cell_type": "code",
   "execution_count": 27,
   "metadata": {},
   "outputs": [
    {
     "name": "stdout",
     "output_type": "stream",
     "text": [
      "25\n"
     ]
    }
   ],
   "source": [
    "print(index_0)"
   ]
  },
  {
   "cell_type": "markdown",
   "metadata": {},
   "source": [
    "### Task 2"
   ]
  },
  {
   "cell_type": "code",
   "execution_count": 7,
   "metadata": {},
   "outputs": [],
   "source": [
    "def get_page():\n",
    "    url = \"https://ru.wikipedia.org/wiki/Категория:Животные_по_алфавиту\"\n",
    "    response = get(url)\n",
    "    get_page = bs(response.text)\n",
    "    return get_page"
   ]
  },
  {
   "cell_type": "code",
   "execution_count": 8,
   "metadata": {},
   "outputs": [],
   "source": [
    "def get_subpages():\n",
    "    soup = get_page()\n",
    "    subpages = []\n",
    "    letters = soup.find('div', class_='toccolours plainlinks center').find('span').find_all('a')\n",
    "    for letter in letters:\n",
    "        subpages.append(letter.get('href'))\n",
    "    return subpages"
   ]
  },
  {
   "cell_type": "code",
   "execution_count": 9,
   "metadata": {},
   "outputs": [],
   "source": [
    "def get_data():\n",
    "    animals = []\n",
    "    subpages = get_subpages()\n",
    "    for page in subpages:\n",
    "        response = get(page)\n",
    "        soup = bs(response.text)\n",
    "        names = soup.find(\n",
    "            'div', class_='mw-content-ltr').find('div', class_='mw-category-group').find_all('a')\n",
    "        for i in names:\n",
    "            animals.append(i.text)\n",
    "    return animals"
   ]
  },
  {
   "cell_type": "code",
   "execution_count": 10,
   "metadata": {},
   "outputs": [],
   "source": [
    "animals=get_data()"
   ]
  },
  {
   "cell_type": "code",
   "execution_count": 11,
   "metadata": {},
   "outputs": [
    {
     "name": "stdout",
     "output_type": "stream",
     "text": [
      "The number of animals in Wikipedia is  5433\n"
     ]
    }
   ],
   "source": [
    "print(\"The number of animals in Wikipedia is \",len(animals))"
   ]
  },
  {
   "cell_type": "code",
   "execution_count": 12,
   "metadata": {},
   "outputs": [],
   "source": [
    "# get the first letter of each animal name\n",
    "first_letter=[x[0] for x in animals]"
   ]
  },
  {
   "cell_type": "code",
   "execution_count": 13,
   "metadata": {},
   "outputs": [],
   "source": [
    "values, counts = np.unique(first_letter, return_counts=True)"
   ]
  },
  {
   "cell_type": "code",
   "execution_count": 14,
   "metadata": {},
   "outputs": [],
   "source": [
    "animals_letter=dict(zip(values, counts))"
   ]
  },
  {
   "cell_type": "code",
   "execution_count": 15,
   "metadata": {},
   "outputs": [
    {
     "name": "stdout",
     "output_type": "stream",
     "text": [
      "{'H': 1, 'Ё': 4, 'А': 201, 'Б': 200, 'В': 199, 'Г': 199, 'Д': 199, 'Е': 198, 'Ж': 201, 'З': 200, 'И': 200, 'Й': 3, 'К': 200, 'Л': 200, 'М': 199, 'Н': 200, 'О': 202, 'П': 202, 'Р': 200, 'С': 199, 'Т': 200, 'У': 200, 'Ф': 171, 'Х': 200, 'Ц': 200, 'Ч': 200, 'Ш': 200, 'Щ': 141, 'Э': 195, 'Ю': 125, 'Я': 194}\n"
     ]
    }
   ],
   "source": [
    "# print the dictionary which shows how many animals exist in Wikipedia starting with that letter\n",
    "print(animals_letter)"
   ]
  },
  {
   "cell_type": "markdown",
   "metadata": {},
   "source": [
    "### Task 3 "
   ]
  },
  {
   "cell_type": "code",
   "execution_count": 16,
   "metadata": {},
   "outputs": [],
   "source": [
    "## This function split the list by indexes, a list with odd indexes, and list with even indexes and then difference of these lists\n",
    "## the general idea is to get how long pupil or tutor was available during the lesson\n",
    "def Split(test_list): \n",
    "    ev_li = test_list[::2] \n",
    "    od_li=test_list[1::2] \n",
    "    return(list(np.array(od_li)-np.array(ev_li)))"
   ]
  },
  {
   "cell_type": "code",
   "execution_count": 17,
   "metadata": {},
   "outputs": [],
   "source": [
    "# results are in the seconds and show how long was a lesson, and how long pupil and tutor was available\n",
    "# there are two outputs exact values and overall(sum)\n",
    "def appearance(intervals):\n",
    "    d_v=intervals.values()\n",
    "    d_k=intervals.keys()\n",
    "    d_new={\"lesson\":[],\"pupil\":[],\"tutor\":[]}\n",
    "    d_new_sum={\"lesson\":[],\"pupil\":[],\"tutor\":[]}\n",
    "    for i in np.arange(len(d_v)):\n",
    "        input_=list(d_v)[i]\n",
    "        value=Split(input_)\n",
    "        d_new[list(d_k)[i]].append(value) \n",
    "        d_new_sum[list(d_k)[i]].append(sum(value))\n",
    "    return d_new,d_new_sum"
   ]
  },
  {
   "cell_type": "code",
   "execution_count": 18,
   "metadata": {},
   "outputs": [],
   "source": [
    "d={ \n",
    "  'lesson': [1594663200, 1594666800], \n",
    "  'pupil': [1594663340, 1594663389, 1594663390, 1594663395, 1594663396, 1594666472], \n",
    "  'tutor': [1594663290, 1594663430, 1594663443, 1594666473] \n",
    "}"
   ]
  },
  {
   "cell_type": "code",
   "execution_count": 19,
   "metadata": {},
   "outputs": [],
   "source": [
    "d_new,d_new_sum=appearance(d)"
   ]
  },
  {
   "cell_type": "code",
   "execution_count": 20,
   "metadata": {},
   "outputs": [
    {
     "data": {
      "text/plain": [
       "{'lesson': [3600], 'pupil': [3130], 'tutor': [3170]}"
      ]
     },
     "execution_count": 20,
     "metadata": {},
     "output_type": "execute_result"
    }
   ],
   "source": [
    "# overall duration and availability in seconds \n",
    "d_new_sum"
   ]
  },
  {
   "cell_type": "code",
   "execution_count": null,
   "metadata": {},
   "outputs": [],
   "source": [
    "### in the attached file, you can find the same solution for the third task with WEB API "
   ]
  }
 ],
 "metadata": {
  "kernelspec": {
   "display_name": "Python 3",
   "language": "python",
   "name": "python3"
  },
  "language_info": {
   "codemirror_mode": {
    "name": "ipython",
    "version": 3
   },
   "file_extension": ".py",
   "mimetype": "text/x-python",
   "name": "python",
   "nbconvert_exporter": "python",
   "pygments_lexer": "ipython3",
   "version": "3.8.3"
  }
 },
 "nbformat": 4,
 "nbformat_minor": 4
}
